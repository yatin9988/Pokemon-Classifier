{
 "cells": [
  {
   "cell_type": "code",
   "execution_count": 34,
   "metadata": {},
   "outputs": [],
   "source": [
    "import numpy as np\n",
    "import matplotlib.pyplot as plt\n",
    "from keras.preprocessing import image\n",
    "from pathlib import Path"
   ]
  },
  {
   "cell_type": "code",
   "execution_count": 35,
   "metadata": {},
   "outputs": [],
   "source": [
    "dataset = Path('./dataset/')"
   ]
  },
  {
   "cell_type": "code",
   "execution_count": 36,
   "metadata": {},
   "outputs": [],
   "source": [
    "pokemon2label = {}\n",
    "label2pokemon = {}\n",
    "index = 0"
   ]
  },
  {
   "cell_type": "code",
   "execution_count": 37,
   "metadata": {},
   "outputs": [],
   "source": [
    "for pokemon in dataset.glob('*'):\n",
    "    pok_str = str(pokemon).split('/')[-1]\n",
    "    pokemon2label[pok_str] = index\n",
    "    label2pokemon[index] = pok_str\n",
    "    index+=1"
   ]
  },
  {
   "cell_type": "code",
   "execution_count": 38,
   "metadata": {},
   "outputs": [
    {
     "name": "stdout",
     "output_type": "stream",
     "text": [
      "{'Meowth': 0, 'Psyduck': 1, 'Charizard': 2, 'Bulbasaur': 3}\n",
      "{0: 'Meowth', 1: 'Psyduck', 2: 'Charizard', 3: 'Bulbasaur'}\n"
     ]
    }
   ],
   "source": [
    "print(pokemon2label)\n",
    "print(label2pokemon)"
   ]
  },
  {
   "cell_type": "code",
   "execution_count": 39,
   "metadata": {},
   "outputs": [],
   "source": [
    "pokemons = []\n",
    "labels = []"
   ]
  },
  {
   "cell_type": "code",
   "execution_count": 40,
   "metadata": {},
   "outputs": [],
   "source": [
    "for pokemon in dataset.glob('*'):\n",
    "    pok = Path(pokemon)\n",
    "    pok_str = str(pokemon).split('/')[-1]\n",
    "    for i in pok.glob('*'):\n",
    "        img = image.load_img(str(i),target_size=(40,40,3))\n",
    "        img = image.img_to_array(img)\n",
    "        pokemons.append(img)\n",
    "        labels.append(pokemon2label[pok_str])"
   ]
  },
  {
   "cell_type": "code",
   "execution_count": 42,
   "metadata": {},
   "outputs": [],
   "source": [
    "pokemons = np.array(pokemons)\n",
    "labels = np.array(labels)"
   ]
  },
  {
   "cell_type": "code",
   "execution_count": 43,
   "metadata": {},
   "outputs": [
    {
     "name": "stdout",
     "output_type": "stream",
     "text": [
      "(570, 40, 40, 3)\n",
      "(570,)\n"
     ]
    }
   ],
   "source": [
    "print(pokemons.shape)\n",
    "print(labels.shape)"
   ]
  },
  {
   "cell_type": "code",
   "execution_count": null,
   "metadata": {},
   "outputs": [],
   "source": []
  }
 ],
 "metadata": {
  "kernelspec": {
   "display_name": "Python 3",
   "language": "python",
   "name": "python3"
  },
  "language_info": {
   "codemirror_mode": {
    "name": "ipython",
    "version": 3
   },
   "file_extension": ".py",
   "mimetype": "text/x-python",
   "name": "python",
   "nbconvert_exporter": "python",
   "pygments_lexer": "ipython3",
   "version": "3.7.1"
  }
 },
 "nbformat": 4,
 "nbformat_minor": 2
}
